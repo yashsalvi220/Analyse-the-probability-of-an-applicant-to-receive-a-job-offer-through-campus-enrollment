{
 "cells": [
  {
   "cell_type": "code",
   "execution_count": 1,
   "id": "60737225",
   "metadata": {},
   "outputs": [],
   "source": [
    "#Import neccessary libraries\n",
    "import numpy as np\n",
    "import pandas as pd\n",
    "import tensorflow as tf\n",
    "from sklearn.model_selection import train_test_split\n",
    "from sklearn.preprocessing import StandardScaler, LabelEncoder, OneHotEncoder\n",
    "from sklearn.compose import ColumnTransformer\n",
    "from sklearn.metrics import confusion_matrix, accuracy_score\n",
    "from tensorflow.keras.models import Sequential\n",
    "from tensorflow.keras.layers import Dense, Flatten, Input, Dropout\n",
    "from tensorflow.keras.optimizers import Adam\n",
    "from sklearn.model_selection import GridSearchCV\n",
    "from scikeras.wrappers import KerasClassifier\n",
    "import matplotlib.pyplot as plt\n",
    "import shap"
   ]
  },
  {
   "cell_type": "code",
   "execution_count": 2,
   "id": "abf46a72",
   "metadata": {},
   "outputs": [],
   "source": [
    "#Import dataset\n",
    "campus = pd.read_csv(\"C:/Users/yashs/OneDrive/Documents/Campus_Selection.csv\")"
   ]
  },
  {
   "cell_type": "code",
   "execution_count": null,
   "id": "6a0a8e37",
   "metadata": {},
   "outputs": [],
   "source": [
    "campus.info()"
   ]
  },
  {
   "cell_type": "code",
   "execution_count": 3,
   "id": "a932f7ab",
   "metadata": {},
   "outputs": [],
   "source": [
    "campus = campus.drop(columns = \"sl_no\")"
   ]
  },
  {
   "cell_type": "code",
   "execution_count": null,
   "id": "6be8ac32",
   "metadata": {},
   "outputs": [],
   "source": [
    "campus.head()"
   ]
  },
  {
   "cell_type": "code",
   "execution_count": 4,
   "id": "8e4e144f",
   "metadata": {},
   "outputs": [],
   "source": [
    "#Perform Frequency encoding\n",
    "#Case1: Gender\n",
    "frequencygen = campus['gender'].value_counts(normalize=True)\n",
    "# Map gender categories to frequency values\n",
    "campus['encoded_gender'] = campus['gender'].map(frequencygen)\n",
    "#Case2: SSC_B\n",
    "frequencySSC_p = campus['ssc_b'].value_counts(normalize=True)\n",
    "#Map ssc_b categories to frequency values\n",
    "campus['encoded_ssc_b'] = campus['ssc_b'].map(frequencySSC_p)\n",
    "#Case3: HSC_B\n",
    "frequencyhsc_b = campus['hsc_b'].value_counts(normalize=True)\n",
    "#Map hsc_b categories to frequency values\n",
    "campus['encoded_hsc_b'] = campus['hsc_b'].map(frequencyhsc_b)\n",
    "#Case4: HSC_S\n",
    "frequencyhsc_s = campus['hsc_s'].value_counts(normalize=True)\n",
    "#Map hsc_s categories to frequency values\n",
    "campus['encoded_hsc_s'] = campus['hsc_s'].map(frequencyhsc_s)\n",
    "#Case5: DEGREE_T\n",
    "frequencydegt = campus['degree_t'].value_counts(normalize=True)\n",
    "#Map degree_t categories to frequency values\n",
    "campus['encoded_degree_t'] = campus['degree_t'].map(frequencydegt)\n",
    "#Case6: WORKEX\n",
    "frequencywkex = campus['workex'].value_counts(normalize=True)\n",
    "#Map workex categories to frequency values\n",
    "campus['encoded_workex'] = campus['workex'].map(frequencywkex)\n",
    "#Case7: SPECIALISATION\n",
    "frequencyspec = campus['specialisation'].value_counts(normalize=True)\n",
    "#Map specialisation categories to frequency values\n",
    "campus['encoded_specialisation'] = campus['specialisation'].map(frequencyspec)"
   ]
  },
  {
   "cell_type": "code",
   "execution_count": null,
   "id": "1f66d363",
   "metadata": {},
   "outputs": [],
   "source": [
    "campus.dtypes"
   ]
  },
  {
   "cell_type": "code",
   "execution_count": null,
   "id": "57d961eb",
   "metadata": {},
   "outputs": [],
   "source": [
    "campus.head(10)"
   ]
  },
  {
   "cell_type": "code",
   "execution_count": 5,
   "id": "a4981c9c",
   "metadata": {},
   "outputs": [],
   "source": [
    "campus = campus.drop(columns = [\"gender\",\"ssc_b\",\"hsc_b\",\"hsc_s\",\"degree_t\",\"workex\",\"specialisation\"])"
   ]
  },
  {
   "cell_type": "code",
   "execution_count": 6,
   "id": "250bf249",
   "metadata": {},
   "outputs": [
    {
     "name": "stderr",
     "output_type": "stream",
     "text": [
      "\n",
      "A value is trying to be set on a copy of a slice from a DataFrame.\n",
      "Try using .loc[row_indexer,col_indexer] = value instead\n",
      "\n",
      "See the caveats in the documentation: https://pandas.pydata.org/pandas-docs/stable/user_guide/indexing.html#returning-a-view-versus-a-copy\n"
     ]
    }
   ],
   "source": [
    "target = campus[['status']]\n",
    "le = LabelEncoder()\n",
    "target['encoded_status'] = le.fit_transform(target['status'])\n",
    "target = target.drop(columns = \"status\")"
   ]
  },
  {
   "cell_type": "code",
   "execution_count": 7,
   "id": "0b7202be",
   "metadata": {},
   "outputs": [],
   "source": [
    "campus = campus.drop(columns =[\"status\"])"
   ]
  },
  {
   "cell_type": "code",
   "execution_count": 8,
   "id": "d60d8027",
   "metadata": {},
   "outputs": [],
   "source": [
    "#Normalization values\n",
    "#Initialize the scalar\n",
    "scaler = StandardScaler()\n",
    "#Fit and transform the data\n",
    "df_normalized = pd.DataFrame(scaler.fit_transform(campus), columns=campus.columns)"
   ]
  },
  {
   "cell_type": "code",
   "execution_count": 10,
   "id": "e0890111",
   "metadata": {
    "scrolled": true
   },
   "outputs": [
    {
     "data": {
      "text/html": [
       "<div>\n",
       "<style scoped>\n",
       "    .dataframe tbody tr th:only-of-type {\n",
       "        vertical-align: middle;\n",
       "    }\n",
       "\n",
       "    .dataframe tbody tr th {\n",
       "        vertical-align: top;\n",
       "    }\n",
       "\n",
       "    .dataframe thead th {\n",
       "        text-align: right;\n",
       "    }\n",
       "</style>\n",
       "<table border=\"1\" class=\"dataframe\">\n",
       "  <thead>\n",
       "    <tr style=\"text-align: right;\">\n",
       "      <th></th>\n",
       "      <th>ssc_p</th>\n",
       "      <th>hsc_p</th>\n",
       "      <th>degree_p</th>\n",
       "      <th>etest_p</th>\n",
       "      <th>mba_p</th>\n",
       "      <th>encoded_gender</th>\n",
       "      <th>encoded_ssc_b</th>\n",
       "      <th>encoded_hsc_b</th>\n",
       "      <th>encoded_hsc_s</th>\n",
       "      <th>encoded_degree_t</th>\n",
       "      <th>encoded_workex</th>\n",
       "      <th>encoded_specialisation</th>\n",
       "    </tr>\n",
       "  </thead>\n",
       "  <tbody>\n",
       "    <tr>\n",
       "      <th>0</th>\n",
       "      <td>-0.028087</td>\n",
       "      <td>2.268812</td>\n",
       "      <td>-1.140102</td>\n",
       "      <td>-1.291091</td>\n",
       "      <td>-0.597647</td>\n",
       "      <td>0.739434</td>\n",
       "      <td>-1.082459</td>\n",
       "      <td>0.800763</td>\n",
       "      <td>0.633533</td>\n",
       "      <td>-1.235621</td>\n",
       "      <td>0.724446</td>\n",
       "      <td>-1.123903</td>\n",
       "    </tr>\n",
       "    <tr>\n",
       "      <th>1</th>\n",
       "      <td>1.113369</td>\n",
       "      <td>1.103448</td>\n",
       "      <td>1.513267</td>\n",
       "      <td>1.087157</td>\n",
       "      <td>0.687620</td>\n",
       "      <td>0.739434</td>\n",
       "      <td>0.923823</td>\n",
       "      <td>0.800763</td>\n",
       "      <td>-0.325689</td>\n",
       "      <td>-1.235621</td>\n",
       "      <td>-1.380364</td>\n",
       "      <td>0.889757</td>\n",
       "    </tr>\n",
       "    <tr>\n",
       "      <th>2</th>\n",
       "      <td>-0.213238</td>\n",
       "      <td>0.153313</td>\n",
       "      <td>-0.322843</td>\n",
       "      <td>0.218908</td>\n",
       "      <td>-0.769474</td>\n",
       "      <td>0.739434</td>\n",
       "      <td>0.923823</td>\n",
       "      <td>-1.248809</td>\n",
       "      <td>-3.813769</td>\n",
       "      <td>0.677512</td>\n",
       "      <td>0.724446</td>\n",
       "      <td>0.889757</td>\n",
       "    </tr>\n",
       "    <tr>\n",
       "      <th>3</th>\n",
       "      <td>-1.046417</td>\n",
       "      <td>-1.318339</td>\n",
       "      <td>-1.957362</td>\n",
       "      <td>-0.460592</td>\n",
       "      <td>-0.489396</td>\n",
       "      <td>0.739434</td>\n",
       "      <td>0.923823</td>\n",
       "      <td>-1.248809</td>\n",
       "      <td>-0.325689</td>\n",
       "      <td>-1.235621</td>\n",
       "      <td>0.724446</td>\n",
       "      <td>-1.123903</td>\n",
       "    </tr>\n",
       "    <tr>\n",
       "      <th>4</th>\n",
       "      <td>1.712332</td>\n",
       "      <td>0.668391</td>\n",
       "      <td>0.943909</td>\n",
       "      <td>1.864806</td>\n",
       "      <td>-1.164676</td>\n",
       "      <td>0.739434</td>\n",
       "      <td>0.923823</td>\n",
       "      <td>-1.248809</td>\n",
       "      <td>0.633533</td>\n",
       "      <td>0.677512</td>\n",
       "      <td>0.724446</td>\n",
       "      <td>0.889757</td>\n",
       "    </tr>\n",
       "  </tbody>\n",
       "</table>\n",
       "</div>"
      ],
      "text/plain": [
       "      ssc_p     hsc_p  degree_p   etest_p     mba_p  encoded_gender  \\\n",
       "0 -0.028087  2.268812 -1.140102 -1.291091 -0.597647        0.739434   \n",
       "1  1.113369  1.103448  1.513267  1.087157  0.687620        0.739434   \n",
       "2 -0.213238  0.153313 -0.322843  0.218908 -0.769474        0.739434   \n",
       "3 -1.046417 -1.318339 -1.957362 -0.460592 -0.489396        0.739434   \n",
       "4  1.712332  0.668391  0.943909  1.864806 -1.164676        0.739434   \n",
       "\n",
       "   encoded_ssc_b  encoded_hsc_b  encoded_hsc_s  encoded_degree_t  \\\n",
       "0      -1.082459       0.800763       0.633533         -1.235621   \n",
       "1       0.923823       0.800763      -0.325689         -1.235621   \n",
       "2       0.923823      -1.248809      -3.813769          0.677512   \n",
       "3       0.923823      -1.248809      -0.325689         -1.235621   \n",
       "4       0.923823      -1.248809       0.633533          0.677512   \n",
       "\n",
       "   encoded_workex  encoded_specialisation  \n",
       "0        0.724446               -1.123903  \n",
       "1       -1.380364                0.889757  \n",
       "2        0.724446                0.889757  \n",
       "3        0.724446               -1.123903  \n",
       "4        0.724446                0.889757  "
      ]
     },
     "execution_count": 10,
     "metadata": {},
     "output_type": "execute_result"
    }
   ],
   "source": [
    "df_normalized.head()"
   ]
  },
  {
   "cell_type": "code",
   "execution_count": 11,
   "id": "a4463aac",
   "metadata": {},
   "outputs": [],
   "source": [
    "#Split the dataset into train, test and validation data\n",
    "X_train, X_temp, y_train, y_temp = train_test_split(df_normalized, target, test_size=0.4, random_state=0)\n",
    "X_val, X_test, y_val, y_test = train_test_split(X_temp, y_temp, test_size=0.5, random_state=0)"
   ]
  },
  {
   "cell_type": "code",
   "execution_count": 12,
   "id": "8d4d3d16",
   "metadata": {},
   "outputs": [
    {
     "data": {
      "text/plain": [
       "12"
      ]
     },
     "execution_count": 12,
     "metadata": {},
     "output_type": "execute_result"
    }
   ],
   "source": [
    "X_train.shape[1]"
   ]
  },
  {
   "cell_type": "code",
   "execution_count": 13,
   "id": "a4f56c51",
   "metadata": {},
   "outputs": [],
   "source": [
    "#Define ANN model\n",
    "#Model1\n",
    "ann = tf.keras.models.Sequential()\n",
    "ann.add(tf.keras.layers.Input(shape=(X_train.shape[1],)))\n",
    "ann.add(tf.keras.layers.Dense(units=6, activation='relu'))\n",
    "ann.add(tf.keras.layers.Dense(units=6, activation='relu'))\n",
    "ann.add(tf.keras.layers.Dense(units=1, activation='sigmoid'))"
   ]
  },
  {
   "cell_type": "code",
   "execution_count": null,
   "id": "71a31654",
   "metadata": {},
   "outputs": [],
   "source": [
    "#Compile the ANN\n",
    "ann.compile(optimizer='adam', loss='binary_crossentropy', metrics=['accuracy'])"
   ]
  },
  {
   "cell_type": "code",
   "execution_count": null,
   "id": "339b830f",
   "metadata": {},
   "outputs": [],
   "source": [
    "#Implement early stopping\n",
    "early_stopping = tf.keras.callbacks.EarlyStopping(\n",
    "    monitor='val_loss',\n",
    "    patience=3,\n",
    "    min_delta=0.001,\n",
    "    restore_best_weights=True\n",
    ")"
   ]
  },
  {
   "cell_type": "code",
   "execution_count": null,
   "id": "d45cc8ba",
   "metadata": {},
   "outputs": [],
   "source": [
    "history1 = ann.fit(\n",
    "    X_train, y_train,\n",
    "    validation_data=(X_val, y_val),\n",
    "    batch_size=32,\n",
    "    epochs=100,  # Set to a higher number since early stopping may halt training early\n",
    "    callbacks=[early_stopping]\n",
    ")"
   ]
  },
  {
   "cell_type": "code",
   "execution_count": null,
   "id": "f917f981",
   "metadata": {},
   "outputs": [],
   "source": [
    "#Compute and return the test loss and accuracy without displaying output.\n",
    "test_loss, test_accuracy = ann.evaluate(X_test, y_test, verbose=0)"
   ]
  },
  {
   "cell_type": "code",
   "execution_count": null,
   "id": "70450bdc",
   "metadata": {},
   "outputs": [],
   "source": [
    "# Check if early stopping was triggered\n",
    "if early_stopping.stopped_epoch > 0:\n",
    "    best_epoch = early_stopping.stopped_epoch - early_stopping.patience\n",
    "else:\n",
    "    best_epoch = len(history.history['loss']) - 1  # Use the last epoch as the best one\n",
    "\n",
    "# Print the metrics\n",
    "print('Training Loss', history.history['loss'][best_epoch])\n",
    "print('Validation Loss', history.history['val_loss'][best_epoch])\n",
    "print('Training Accuracy', history.history['accuracy'][best_epoch])\n",
    "print('Validation Accuracy', history.history['val_accuracy'][best_epoch])\n",
    "print('Test Accuracy', test_accuracy)\n",
    "print('Epoch Stopped', best_epoch + 1)  # epochs are zero-indexed, but we report them starting from 1\n"
   ]
  },
  {
   "cell_type": "code",
   "execution_count": 14,
   "id": "e38c9b66",
   "metadata": {},
   "outputs": [],
   "source": [
    "###Hyperparameter training\n",
    "#Set parameter\n",
    "param_grid = {\n",
    "    'activation': ['relu', 'tanh', 'sigmoid'],\n",
    "    'learning_rate': [0.001, 0.01, 0.1],\n",
    "    'num_hidden': [1, 2],\n",
    "    'num_neurons': [32, 64, 128],\n",
    "    #'kernel_initializer': ['he_uniform', 'glorot_uniform', 'random_normal'],\n",
    "    'add_dropout': [True, False]\n",
    "}"
   ]
  },
  {
   "cell_type": "code",
   "execution_count": 15,
   "id": "74cfda16",
   "metadata": {},
   "outputs": [],
   "source": [
    "#New model\n",
    "def build_model2(hp):\n",
    "    model = Sequential()\n",
    "    \n",
    "    # Input layer (customize input_shape as needed)\n",
    "    model.add(Input(shape=(X_train.shape[1],)))\n",
    "\n",
    "    # Number of hidden layers\n",
    "    for i in range(hp.Int('num_layers', 1, 3)):\n",
    "        model.add(\n",
    "            Dense(\n",
    "                units=hp.Int(f'units_{i}', min_value=32, max_value=256, step=32),\n",
    "                activation=hp.Choice('activation', ['relu', 'tanh','sigmoid']),\n",
    "            )\n",
    "        )\n",
    "        if hp.Boolean('add_dropout'):\n",
    "            model.add(Dropout(rate=0.3))\n",
    "    \n",
    "    # Output layer (binary classification example)\n",
    "    model.add(Dense(1, activation='sigmoid'))\n",
    "\n",
    "    # Compile model\n",
    "    model.compile(\n",
    "        optimizer=Adam(\n",
    "            learning_rate=hp.Choice('learning_rate', [0.01, 0.001, 0.05])\n",
    "        ),\n",
    "        loss='binary_crossentropy',\n",
    "        metrics=['accuracy']\n",
    "    )\n",
    "\n",
    "    return model"
   ]
  },
  {
   "cell_type": "code",
   "execution_count": 16,
   "id": "0cd60762",
   "metadata": {},
   "outputs": [
    {
     "name": "stdout",
     "output_type": "stream",
     "text": [
      "Reloading Tuner from my_dir\\tuning_example\\tuner0.json\n"
     ]
    }
   ],
   "source": [
    "#Use randomsearch optimization\n",
    "from keras_tuner import RandomSearch, BayesianOptimization, Hyperband\n",
    "\n",
    "tuner = RandomSearch(\n",
    "    build_model2,\n",
    "    objective='val_accuracy',\n",
    "    max_trials=10,\n",
    "    executions_per_trial=1,\n",
    "    directory='my_dir',\n",
    "    project_name='tuning_example'\n",
    ")\n",
    "\n",
    "# Run search (use appropriate validation split or val_data)\n",
    "tuner.search(X_train, y_train, epochs=10, validation_split=0.2)\n",
    "\n",
    "# Get the best model\n",
    "best_model = tuner.get_best_models(num_models=1)[0]"
   ]
  },
  {
   "cell_type": "code",
   "execution_count": 17,
   "id": "dc686887",
   "metadata": {},
   "outputs": [
    {
     "name": "stdout",
     "output_type": "stream",
     "text": [
      "num_layers: 2\n",
      "units_0: 96\n",
      "activation: tanh\n",
      "add_dropout: True\n",
      "learning_rate: 0.001\n",
      "units_1: 192\n",
      "units_2: 224\n"
     ]
    }
   ],
   "source": [
    "best_hps = tuner.get_best_hyperparameters(num_trials=1)[0]\n",
    "# Print all the best hyperparameters\n",
    "for param in best_hps.values:\n",
    "    print(f\"{param}: {best_hps.get(param)}\")"
   ]
  },
  {
   "cell_type": "code",
   "execution_count": 18,
   "id": "54a28a89",
   "metadata": {},
   "outputs": [
    {
     "name": "stdout",
     "output_type": "stream",
     "text": [
      "Reloading Tuner from bayesian_opt\\tuning_example1\\tuner0.json\n"
     ]
    }
   ],
   "source": [
    "#Use bayesian optimization\n",
    "bayesian_tuner = BayesianOptimization(\n",
    "    build_model2,\n",
    "    objective='val_loss',\n",
    "    max_trials=10,\n",
    "    executions_per_trial =1,\n",
    "    directory='bayesian_opt',\n",
    "    project_name='tuning_example1'\n",
    ")\n",
    "\n",
    "# Run search (use appropriate validation split or val_data)\n",
    "bayesian_tuner.search(X_train, y_train, epochs=10, validation_data=(X_val, y_val), verbose = 0)\n",
    "\n",
    "# Get the best model\n",
    "best_model1 = bayesian_tuner.get_best_models(num_models=1)[0]"
   ]
  },
  {
   "cell_type": "code",
   "execution_count": 19,
   "id": "77b6550e",
   "metadata": {},
   "outputs": [
    {
     "name": "stdout",
     "output_type": "stream",
     "text": [
      "num_layers: 3\n",
      "units_0: 192\n",
      "activation: relu\n",
      "add_dropout: True\n",
      "learning_rate: 0.01\n",
      "units_1: 128\n",
      "units_2: 96\n"
     ]
    }
   ],
   "source": [
    "best_hps1 = bayesian_tuner.get_best_hyperparameters(num_trials=1)[0]\n",
    "# Print all the best hyperparameters\n",
    "for param in best_hps1.values:\n",
    "    print(f\"{param}: {best_hps1.get(param)}\")"
   ]
  },
  {
   "cell_type": "code",
   "execution_count": 20,
   "id": "06aa8d08",
   "metadata": {},
   "outputs": [],
   "source": [
    "#Implement early_stopping for bayesian\n",
    "early_stopping = tf.keras.callbacks.EarlyStopping(\n",
    "    monitor='val_loss',\n",
    "    patience=3,\n",
    "    min_delta=0.001,\n",
    "    restore_best_weights=True\n",
    ")"
   ]
  },
  {
   "cell_type": "code",
   "execution_count": 21,
   "id": "e80b53b5",
   "metadata": {},
   "outputs": [
    {
     "name": "stdout",
     "output_type": "stream",
     "text": [
      "Epoch 1/100\n",
      "5/5 [==============================] - 1s 40ms/step - loss: 0.1236 - accuracy: 0.9612 - val_loss: 0.5705 - val_accuracy: 0.8372\n",
      "Epoch 2/100\n",
      "5/5 [==============================] - 0s 9ms/step - loss: 0.2439 - accuracy: 0.9070 - val_loss: 0.5281 - val_accuracy: 0.8372\n",
      "Epoch 3/100\n",
      "5/5 [==============================] - 0s 10ms/step - loss: 0.1461 - accuracy: 0.9380 - val_loss: 0.5419 - val_accuracy: 0.8372\n",
      "Epoch 4/100\n",
      "5/5 [==============================] - 0s 8ms/step - loss: 0.0976 - accuracy: 0.9690 - val_loss: 0.5432 - val_accuracy: 0.8140\n",
      "Epoch 5/100\n",
      "5/5 [==============================] - 0s 8ms/step - loss: 0.0750 - accuracy: 0.9767 - val_loss: 0.6163 - val_accuracy: 0.8140\n"
     ]
    }
   ],
   "source": [
    "#Bayesian optimization #Model2\n",
    "history = best_model1.fit(X_train, y_train,validation_data=(X_val, y_val), batch_size =32, epochs=100, verbose=1,\n",
    "                          callbacks=early_stopping)"
   ]
  },
  {
   "cell_type": "code",
   "execution_count": 35,
   "id": "9b4948a4",
   "metadata": {},
   "outputs": [
    {
     "data": {
      "image/png": "[encoded data removed]",
      "text/plain": [
       "<Figure size 432x288 with 1 Axes>"
      ]
     },
     "metadata": {
      "needs_background": "light"
     },
     "output_type": "display_data"
    }
   ],
   "source": [
    "plt.plot(history.history['accuracy'], label='Train Accuracy')\n",
    "plt.plot(history.history['val_accuracy'], label='Validation Accuracy')\n",
    "plt.xlabel('Epochs')\n",
    "plt.ylabel('Accuracy')\n",
    "plt.title('Training vs Validation Accuracy')\n",
    "plt.legend()\n",
    "plt.grid(True)\n",
    "plt.show()"
   ]
  },
  {
   "cell_type": "code",
   "execution_count": 22,
   "id": "d69b3e35",
   "metadata": {},
   "outputs": [
    {
     "name": "stdout",
     "output_type": "stream",
     "text": [
      "Training Loss 0.24390706419944763\n",
      "Validation Loss 0.5281054973602295\n",
      "Training Accuracy 0.9069767594337463\n",
      "Validation Accuracy 0.8372092843055725\n",
      "Epoch Stopped 2\n"
     ]
    }
   ],
   "source": [
    "#Early stopping with bayesian\n",
    "if early_stopping.stopped_epoch > 0:\n",
    "    best_epoch = early_stopping.stopped_epoch - early_stopping.patience\n",
    "else:\n",
    "    best_epoch = len(history.history['loss']) - 1  # Use the last epoch as the best one\n",
    "\n",
    "# Print the metrics\n",
    "print('Training Loss', history.history['loss'][best_epoch])\n",
    "print('Validation Loss', history.history['val_loss'][best_epoch])\n",
    "print('Training Accuracy', history.history['accuracy'][best_epoch])\n",
    "print('Validation Accuracy', history.history['val_accuracy'][best_epoch])\n",
    "print('Epoch Stopped', best_epoch + 1)"
   ]
  },
  {
   "cell_type": "code",
   "execution_count": 23,
   "id": "311f7a03",
   "metadata": {},
   "outputs": [
    {
     "name": "stdout",
     "output_type": "stream",
     "text": [
      "Reloading Tuner from hyperband\\tuning_example2\\tuner0.json\n"
     ]
    }
   ],
   "source": [
    "#Use hyperband optimization\n",
    "hyperband_tuner = Hyperband(\n",
    "    build_model2,\n",
    "    objective='val_loss',\n",
    "    max_epochs=10,\n",
    "    directory='hyperband',\n",
    "    project_name='tuning_example2')\n",
    "\n",
    "# Run search (use appropriate validation split or val_data)\n",
    "hyperband_tuner.search(X_train, y_train, epochs=10,validation_data=(X_val, y_val))\n",
    "\n",
    "# Get the best model\n",
    "best_model2 = hyperband_tuner.get_best_models(num_models=1)[0]"
   ]
  },
  {
   "cell_type": "code",
   "execution_count": 24,
   "id": "7a1fdd64",
   "metadata": {},
   "outputs": [
    {
     "name": "stdout",
     "output_type": "stream",
     "text": [
      "num_layers: 1\n",
      "units_0: 32\n",
      "activation: relu\n",
      "add_dropout: False\n",
      "learning_rate: 0.05\n",
      "units_1: 160\n",
      "units_2: 256\n",
      "tuner/epochs: 10\n",
      "tuner/initial_epoch: 0\n",
      "tuner/bracket: 0\n",
      "tuner/round: 0\n"
     ]
    }
   ],
   "source": [
    "best_hps2 = hyperband_tuner.get_best_hyperparameters(num_trials=1)[0]\n",
    "# Print all the best hyperparameters\n",
    "for param in best_hps2.values:\n",
    "    print(f\"{param}: {best_hps2.get(param)}\")"
   ]
  },
  {
   "cell_type": "code",
   "execution_count": 25,
   "id": "dcb32b42",
   "metadata": {},
   "outputs": [
    {
     "name": "stdout",
     "output_type": "stream",
     "text": [
      "Epoch 1/100\n",
      "5/5 [==============================] - 0s 32ms/step - loss: 0.0913 - accuracy: 0.9535 - val_loss: 0.5413 - val_accuracy: 0.7907\n",
      "Epoch 2/100\n",
      "5/5 [==============================] - 0s 7ms/step - loss: 0.1031 - accuracy: 0.9767 - val_loss: 0.5271 - val_accuracy: 0.8140\n",
      "Epoch 3/100\n",
      "5/5 [==============================] - 0s 8ms/step - loss: 0.0894 - accuracy: 0.9767 - val_loss: 0.4872 - val_accuracy: 0.8605\n",
      "Epoch 4/100\n",
      "5/5 [==============================] - 0s 6ms/step - loss: 0.1630 - accuracy: 0.9457 - val_loss: 0.5518 - val_accuracy: 0.8605\n",
      "Epoch 5/100\n",
      "5/5 [==============================] - 0s 9ms/step - loss: 0.0910 - accuracy: 0.9612 - val_loss: 0.7110 - val_accuracy: 0.7907\n",
      "Epoch 6/100\n",
      "5/5 [==============================] - 0s 6ms/step - loss: 0.0799 - accuracy: 0.9767 - val_loss: 0.8374 - val_accuracy: 0.7674\n"
     ]
    }
   ],
   "source": [
    "#Hyperband optimization\n",
    "history2 = best_model2.fit(X_train, y_train,validation_data=(X_val, y_val), batch_size=32, epochs=100, verbose=1, callbacks=early_stopping)"
   ]
  },
  {
   "cell_type": "code",
   "execution_count": 26,
   "id": "5a077375",
   "metadata": {},
   "outputs": [
    {
     "name": "stdout",
     "output_type": "stream",
     "text": [
      "Training Loss 0.08937810361385345\n",
      "Validation Loss 0.487240195274353\n",
      "Training Accuracy 0.9767441749572754\n",
      "Validation Accuracy 0.8604651093482971\n",
      "Epoch Stopped 3\n"
     ]
    }
   ],
   "source": [
    "#Early stopping with hyperband\n",
    "if early_stopping.stopped_epoch > 0:\n",
    "    best_epoch = early_stopping.stopped_epoch - early_stopping.patience\n",
    "else:\n",
    "    best_epoch = len(history2.history['loss']) - 1  # Use the last epoch as the best one\n",
    "\n",
    "# Print the metrics\n",
    "print('Training Loss', history2.history['loss'][best_epoch])\n",
    "print('Validation Loss', history2.history['val_loss'][best_epoch])\n",
    "print('Training Accuracy', history2.history['accuracy'][best_epoch])\n",
    "print('Validation Accuracy', history2.history['val_accuracy'][best_epoch])\n",
    "print('Epoch Stopped', best_epoch + 1)"
   ]
  },
  {
   "cell_type": "code",
   "execution_count": 27,
   "id": "cdb892dd",
   "metadata": {},
   "outputs": [
    {
     "name": "stdout",
     "output_type": "stream",
     "text": [
      "2/2 [==============================] - 0s 0s/step - loss: 0.3967 - accuracy: 0.8372\n",
      "Test Accuracy: 0.84\n"
     ]
    }
   ],
   "source": [
    "#Bayesian\n",
    "loss, acc = best_model1.evaluate(X_test, y_test)\n",
    "print(f\"Test Accuracy: {acc:.2f}\")"
   ]
  },
  {
   "cell_type": "code",
   "execution_count": 28,
   "id": "e415e0c8",
   "metadata": {},
   "outputs": [
    {
     "name": "stdout",
     "output_type": "stream",
     "text": [
      "2/2 [==============================] - 0s 2ms/step - loss: 0.3105 - accuracy: 0.8372\n",
      "Test Accuracy: 0.84\n"
     ]
    }
   ],
   "source": [
    "loss, acc = best_model.evaluate(X_test, y_test)\n",
    "print(f\"Test Accuracy: {acc:.2f}\")"
   ]
  },
  {
   "cell_type": "code",
   "execution_count": 29,
   "id": "94f30132",
   "metadata": {},
   "outputs": [
    {
     "name": "stdout",
     "output_type": "stream",
     "text": [
      "2/2 [==============================] - 0s 3ms/step - loss: 0.6466 - accuracy: 0.7674\n",
      "Test Accuracy: 0.77\n"
     ]
    }
   ],
   "source": [
    "#Hyperband\n",
    "loss, acc = best_model2.evaluate(X_test, y_test)\n",
    "print(f\"Test Accuracy: {acc:.2f}\")"
   ]
  },
  {
   "cell_type": "code",
   "execution_count": 30,
   "id": "736557aa",
   "metadata": {},
   "outputs": [],
   "source": [
    "from sklearn.metrics import confusion_matrix, ConfusionMatrixDisplay"
   ]
  },
  {
   "cell_type": "code",
   "execution_count": 31,
   "id": "0c7206df",
   "metadata": {},
   "outputs": [],
   "source": [
    "#Bayesian\n",
    "y_pred = best_model1.predict(X_test)"
   ]
  },
  {
   "cell_type": "code",
   "execution_count": 32,
   "id": "0346ec7b",
   "metadata": {},
   "outputs": [
    {
     "data": {
      "text/plain": [
       "<sklearn.metrics._plot.confusion_matrix.ConfusionMatrixDisplay at 0x222cfa245e0>"
      ]
     },
     "execution_count": 32,
     "metadata": {},
     "output_type": "execute_result"
    },
    {
     "data": {
      "image/png": "[encoded data removed]",
      "text/plain": [
       "<Figure size 432x288 with 2 Axes>"
      ]
     },
     "metadata": {
      "needs_background": "light"
     },
     "output_type": "display_data"
    }
   ],
   "source": [
    "y_pred_classes = (y_pred > 0.5).astype(int)  # Ensure binary output for sigmoid\n",
    "\n",
    "# Confusion Matrix\n",
    "cm = confusion_matrix(y_test, y_pred_classes)\n",
    "disp = ConfusionMatrixDisplay(confusion_matrix=cm)\n",
    "disp.plot()"
   ]
  },
  {
   "cell_type": "code",
   "execution_count": 33,
   "id": "7fd3112b",
   "metadata": {},
   "outputs": [
    {
     "data": {
      "text/plain": [
       "<sklearn.metrics._plot.confusion_matrix.ConfusionMatrixDisplay at 0x222cfc0bbb0>"
      ]
     },
     "execution_count": 33,
     "metadata": {},
     "output_type": "execute_result"
    },
    {
     "data": {
      "image/png": "[encoded data removed]",
      "text/plain": [
       "<Figure size 432x288 with 2 Axes>"
      ]
     },
     "metadata": {
      "needs_background": "light"
     },
     "output_type": "display_data"
    }
   ],
   "source": [
    "#Hyperband\n",
    "y_pred1 = best_model2.predict(X_test)\n",
    "y_pred_classes1 = (y_pred1 > 0.5).astype(int)  # Ensure binary output for sigmoid\n",
    "\n",
    "# Confusion Matrix\n",
    "cm = confusion_matrix(y_test, y_pred_classes1)\n",
    "disp = ConfusionMatrixDisplay(confusion_matrix=cm)\n",
    "disp.plot()"
   ]
  }
 ],
 "metadata": {
  "kernelspec": {
   "display_name": "Python 3",
   "language": "python",
   "name": "python3"
  },
  "language_info": {
   "codemirror_mode": {
    "name": "ipython",
    "version": 3
   },
   "file_extension": ".py",
   "mimetype": "text/x-python",
   "name": "python",
   "nbconvert_exporter": "python",
   "pygments_lexer": "ipython3",
   "version": "3.8.8"
  }
 },
 "nbformat": 4,
 "nbformat_minor": 5
}
